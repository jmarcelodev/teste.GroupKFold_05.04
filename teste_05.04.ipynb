{
 "cells": [
  {
   "cell_type": "code",
   "execution_count": 1,
   "id": "2a1892de",
   "metadata": {},
   "outputs": [],
   "source": [
    "import pandas as pd\n",
    "import numpy as np\n",
    "from sklearn.model_selection import KFold\n",
    "from sklearn.ensemble import RandomForestRegressor\n",
    "from sklearn.metrics import mean_squared_error\n",
    "from sklearn.preprocessing import StandardScaler"
   ]
  },
  {
   "cell_type": "code",
   "execution_count": 4,
   "id": "510825ad",
   "metadata": {},
   "outputs": [],
   "source": [
    "t1= pd.read_csv('605.1.csv')\n",
    "t2= pd.read_csv('605.2.csv')\n",
    "t3= pd.read_csv('605.3.csv')\n",
    "t4= pd.read_csv('605.4.csv')\n",
    "t5= pd.read_csv('605.5.csv')\n",
    "t6= pd.read_csv('605.6.csv')\n",
    "t7= pd.read_csv('605.7.csv')\n",
    "t8= pd.read_csv('606.1.csv')\n",
    "t9= pd.read_csv('606.2.csv')\n",
    "t10= pd.read_csv('606.3.csv')\n",
    "t11= pd.read_csv('606.4.csv')\n",
    "t12= pd.read_csv('606.6.csv')\n",
    "t13= pd.read_csv('606.7.csv')\n",
    "t14= pd.read_csv('607.1.csv')\n",
    "t15= pd.read_csv('607.2.csv')\n",
    "t16= pd.read_csv('607.3.csv')\n",
    "t17= pd.read_csv('607.5.csv')\n",
    "t18= pd.read_csv('607.6.csv')\n",
    "t19= pd.read_csv('607.7.csv')"
   ]
  },
  {
   "cell_type": "code",
   "execution_count": 5,
   "id": "babcbc27",
   "metadata": {},
   "outputs": [],
   "source": [
    "combined_df = pd.concat([t1, t2, t3, t4, t5, t6, t7, t8, t9, t10, t11, t12, t13, t14, t15, t16, t17, t18, t19], ignore_index=True)"
   ]
  },
  {
   "cell_type": "code",
   "execution_count": 7,
   "id": "4cc299a2",
   "metadata": {},
   "outputs": [],
   "source": [
    "X = combined_df.drop(columns=['fid', 'lat', 'long', 'talhao', 'wkt_geom','Altitude1', 'produtivid' ])\n",
    "y = combined_df['produtivid']\n",
    "scaler = StandardScaler()\n",
    "X_scaled = scaler.fit_transform(X)\n"
   ]
  },
  {
   "cell_type": "code",
   "execution_count": 9,
   "id": "99a95668",
   "metadata": {},
   "outputs": [],
   "source": [
    "from sklearn.model_selection import GroupKFold\n",
    "from sklearn.ensemble import RandomForestRegressor\n",
    "from sklearn.metrics import mean_squared_error, mean_absolute_error, r2_score\n",
    "import numpy as np"
   ]
  },
  {
   "cell_type": "code",
   "execution_count": 23,
   "id": "891e6e32",
   "metadata": {},
   "outputs": [
    {
     "name": "stdout",
     "output_type": "stream",
     "text": [
      "Fold 1: MSE=130.2667590704648, MAE=8.810193445889873, R²=0.6688616592850585, RMSE=11.413446415104632\n",
      "Fold 2: MSE=146.12908872439112, MAE=9.28839801468535, R²=0.5653805225419268, RMSE=12.088386522790836\n",
      "Fold 3: MSE=133.4558960882921, MAE=9.097044867550043, R²=0.24999354910994454, RMSE=11.55231128771607\n",
      "Fold 4: MSE=98.28284659387361, MAE=7.2479334088046885, R²=0.725747181111687, RMSE=9.913770553824293\n",
      "MSE : 127.0336476192554\n",
      "MAE : 8.610892434232488\n",
      "R² : 0.5524957280121542\n",
      "RMSE : 11.241978694858958\n"
     ]
    }
   ],
   "source": [
    "groups = combined_df['talhao']\n",
    "group_kfold = GroupKFold(n_splits=4)\n",
    "fold_mse, fold_mae, fold_r2, fold_rmse = [], [], [], []\n",
    "for fold, (train_index, test_index) in enumerate(group_kfold.split(X_scaled, groups=groups)):\n",
    "    X_train, X_test = X_scaled[train_index], X_scaled[test_index]\n",
    "    y_train, y_test = y.iloc[train_index], y.iloc[test_index]\n",
    "    rf_model = RandomForestRegressor(n_estimators=1000, random_state=42, min_samples_leaf=30, n_jobs=-1)\n",
    "    rf_model.fit(X_train, y_train)\n",
    "    y_pred = rf_model.predict(X_test)\n",
    "    mse = mean_squared_error(y_test, y_pred)\n",
    "    mae = mean_absolute_error(y_test, y_pred)\n",
    "    r2 = r2_score(y_test, y_pred)\n",
    "    rmse = np.sqrt(mse)\n",
    "    fold_mse.append(mse)\n",
    "    fold_mae.append(mae)\n",
    "    fold_r2.append(r2)\n",
    "    fold_rmse.append(rmse)\n",
    "    print(f\"Fold {fold + 1}: MSE={mse}, MAE={mae}, R²={r2}, RMSE={rmse}\")\n",
    "print(f'MSE : {sum(fold_mse) / len(fold_mse)}')\n",
    "print(f'MAE : {sum(fold_mae) / len(fold_mae)}')\n",
    "print(f'R² : {sum(fold_r2) / len(fold_r2)}')\n",
    "print(f'RMSE : {sum(fold_rmse) / len(fold_rmse)}')"
   ]
  },
  {
   "cell_type": "code",
   "execution_count": null,
   "id": "33078d2d",
   "metadata": {},
   "outputs": [],
   "source": []
  }
 ],
 "metadata": {
  "kernelspec": {
   "display_name": "Python 3",
   "language": "python",
   "name": "python3"
  },
  "language_info": {
   "codemirror_mode": {
    "name": "ipython",
    "version": 3
   },
   "file_extension": ".py",
   "mimetype": "text/x-python",
   "name": "python",
   "nbconvert_exporter": "python",
   "pygments_lexer": "ipython3",
   "version": "3.8.8"
  }
 },
 "nbformat": 4,
 "nbformat_minor": 5
}
